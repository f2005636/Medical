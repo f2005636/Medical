{
 "cells": [
  {
   "cell_type": "markdown",
   "metadata": {},
   "source": [
    "# 1. import libraries"
   ]
  },
  {
   "cell_type": "code",
   "execution_count": 1,
   "metadata": {},
   "outputs": [],
   "source": [
    "import warnings\n",
    "import numpy as np\n",
    "import pandas as pd\n",
    "import matplotlib.pyplot as plt\n",
    "import seaborn as sns"
   ]
  },
  {
   "cell_type": "code",
   "execution_count": 2,
   "metadata": {},
   "outputs": [],
   "source": [
    "from sklearn.ensemble import RandomForestClassifier"
   ]
  },
  {
   "cell_type": "code",
   "execution_count": 3,
   "metadata": {},
   "outputs": [],
   "source": [
    "warnings.filterwarnings(\"ignore\")\n",
    "%matplotlib inline\n",
    "plt.style.use('seaborn-white')\n",
    "plt.rcParams['figure.figsize'] = 10,5"
   ]
  },
  {
   "cell_type": "markdown",
   "metadata": {},
   "source": [
    "---\n",
    "# 2. import dataset"
   ]
  },
  {
   "cell_type": "code",
   "execution_count": 4,
   "metadata": {},
   "outputs": [
    {
     "data": {
      "text/plain": [
       "(116, 10)"
      ]
     },
     "execution_count": 4,
     "metadata": {},
     "output_type": "execute_result"
    }
   ],
   "source": [
    "df = pd.read_csv('Coimbra_dataset.csv')\n",
    "df['Classification'] = df['Classification']-1\n",
    "df.shape"
   ]
  },
  {
   "cell_type": "markdown",
   "metadata": {},
   "source": [
    "---\n",
    "# 3. independent variables"
   ]
  },
  {
   "cell_type": "code",
   "execution_count": 5,
   "metadata": {},
   "outputs": [
    {
     "data": {
      "text/html": [
       "<div>\n",
       "<style scoped>\n",
       "    .dataframe tbody tr th:only-of-type {\n",
       "        vertical-align: middle;\n",
       "    }\n",
       "\n",
       "    .dataframe tbody tr th {\n",
       "        vertical-align: top;\n",
       "    }\n",
       "\n",
       "    .dataframe thead th {\n",
       "        text-align: right;\n",
       "    }\n",
       "</style>\n",
       "<table border=\"1\" class=\"dataframe\">\n",
       "  <thead>\n",
       "    <tr style=\"text-align: right;\">\n",
       "      <th></th>\n",
       "      <th>count</th>\n",
       "      <th>mean</th>\n",
       "      <th>std</th>\n",
       "      <th>min</th>\n",
       "      <th>25%</th>\n",
       "      <th>50%</th>\n",
       "      <th>75%</th>\n",
       "      <th>max</th>\n",
       "    </tr>\n",
       "  </thead>\n",
       "  <tbody>\n",
       "    <tr>\n",
       "      <th>Age</th>\n",
       "      <td>116.0</td>\n",
       "      <td>57.301724</td>\n",
       "      <td>16.112766</td>\n",
       "      <td>24.000000</td>\n",
       "      <td>45.000000</td>\n",
       "      <td>56.000000</td>\n",
       "      <td>71.000000</td>\n",
       "      <td>89.000000</td>\n",
       "    </tr>\n",
       "    <tr>\n",
       "      <th>BMI</th>\n",
       "      <td>116.0</td>\n",
       "      <td>27.582111</td>\n",
       "      <td>5.020136</td>\n",
       "      <td>18.370000</td>\n",
       "      <td>22.973205</td>\n",
       "      <td>27.662416</td>\n",
       "      <td>31.241442</td>\n",
       "      <td>38.578759</td>\n",
       "    </tr>\n",
       "    <tr>\n",
       "      <th>Glucose</th>\n",
       "      <td>116.0</td>\n",
       "      <td>97.793103</td>\n",
       "      <td>22.525162</td>\n",
       "      <td>60.000000</td>\n",
       "      <td>85.750000</td>\n",
       "      <td>92.000000</td>\n",
       "      <td>102.000000</td>\n",
       "      <td>201.000000</td>\n",
       "    </tr>\n",
       "    <tr>\n",
       "      <th>Insulin</th>\n",
       "      <td>116.0</td>\n",
       "      <td>10.012086</td>\n",
       "      <td>10.067768</td>\n",
       "      <td>2.432000</td>\n",
       "      <td>4.359250</td>\n",
       "      <td>5.924500</td>\n",
       "      <td>11.189250</td>\n",
       "      <td>58.460000</td>\n",
       "    </tr>\n",
       "    <tr>\n",
       "      <th>HOMA</th>\n",
       "      <td>116.0</td>\n",
       "      <td>2.694988</td>\n",
       "      <td>3.642043</td>\n",
       "      <td>0.467409</td>\n",
       "      <td>0.917966</td>\n",
       "      <td>1.380939</td>\n",
       "      <td>2.857787</td>\n",
       "      <td>25.050342</td>\n",
       "    </tr>\n",
       "    <tr>\n",
       "      <th>Leptin</th>\n",
       "      <td>116.0</td>\n",
       "      <td>26.615080</td>\n",
       "      <td>19.183294</td>\n",
       "      <td>4.311000</td>\n",
       "      <td>12.313675</td>\n",
       "      <td>20.271000</td>\n",
       "      <td>37.378300</td>\n",
       "      <td>90.280000</td>\n",
       "    </tr>\n",
       "    <tr>\n",
       "      <th>Adiponectin</th>\n",
       "      <td>116.0</td>\n",
       "      <td>10.180874</td>\n",
       "      <td>6.843341</td>\n",
       "      <td>1.656020</td>\n",
       "      <td>5.474282</td>\n",
       "      <td>8.352692</td>\n",
       "      <td>11.815970</td>\n",
       "      <td>38.040000</td>\n",
       "    </tr>\n",
       "    <tr>\n",
       "      <th>Resistin</th>\n",
       "      <td>116.0</td>\n",
       "      <td>14.725966</td>\n",
       "      <td>12.390646</td>\n",
       "      <td>3.210000</td>\n",
       "      <td>6.881763</td>\n",
       "      <td>10.827740</td>\n",
       "      <td>17.755207</td>\n",
       "      <td>82.100000</td>\n",
       "    </tr>\n",
       "    <tr>\n",
       "      <th>MCP.1</th>\n",
       "      <td>116.0</td>\n",
       "      <td>534.647000</td>\n",
       "      <td>345.912663</td>\n",
       "      <td>45.843000</td>\n",
       "      <td>269.978250</td>\n",
       "      <td>471.322500</td>\n",
       "      <td>700.085000</td>\n",
       "      <td>1698.440000</td>\n",
       "    </tr>\n",
       "  </tbody>\n",
       "</table>\n",
       "</div>"
      ],
      "text/plain": [
       "             count        mean         std        min         25%         50%  \\\n",
       "Age          116.0   57.301724   16.112766  24.000000   45.000000   56.000000   \n",
       "BMI          116.0   27.582111    5.020136  18.370000   22.973205   27.662416   \n",
       "Glucose      116.0   97.793103   22.525162  60.000000   85.750000   92.000000   \n",
       "Insulin      116.0   10.012086   10.067768   2.432000    4.359250    5.924500   \n",
       "HOMA         116.0    2.694988    3.642043   0.467409    0.917966    1.380939   \n",
       "Leptin       116.0   26.615080   19.183294   4.311000   12.313675   20.271000   \n",
       "Adiponectin  116.0   10.180874    6.843341   1.656020    5.474282    8.352692   \n",
       "Resistin     116.0   14.725966   12.390646   3.210000    6.881763   10.827740   \n",
       "MCP.1        116.0  534.647000  345.912663  45.843000  269.978250  471.322500   \n",
       "\n",
       "                    75%          max  \n",
       "Age           71.000000    89.000000  \n",
       "BMI           31.241442    38.578759  \n",
       "Glucose      102.000000   201.000000  \n",
       "Insulin       11.189250    58.460000  \n",
       "HOMA           2.857787    25.050342  \n",
       "Leptin        37.378300    90.280000  \n",
       "Adiponectin   11.815970    38.040000  \n",
       "Resistin      17.755207    82.100000  \n",
       "MCP.1        700.085000  1698.440000  "
      ]
     },
     "execution_count": 5,
     "metadata": {},
     "output_type": "execute_result"
    }
   ],
   "source": [
    "df.drop('Classification', axis=1).describe().transpose()"
   ]
  },
  {
   "cell_type": "markdown",
   "metadata": {},
   "source": [
    "---\n",
    "# 4. dependent variable\n",
    "* there are 64 Patients (1)\n",
    "* there are 52 Healthy controls (0)"
   ]
  },
  {
   "cell_type": "code",
   "execution_count": 6,
   "metadata": {},
   "outputs": [
    {
     "data": {
      "image/png": "[encoded data removed]",
      "text/plain": [
       "<Figure size 720x360 with 1 Axes>"
      ]
     },
     "metadata": {},
     "output_type": "display_data"
    }
   ],
   "source": [
    "sns.countplot(df['Classification'], color='cornflowerblue');"
   ]
  },
  {
   "cell_type": "markdown",
   "metadata": {},
   "source": [
    "---\n",
    "# 5. Feature Importance"
   ]
  },
  {
   "cell_type": "code",
   "execution_count": 7,
   "metadata": {},
   "outputs": [],
   "source": [
    "y = df['Classification']\n",
    "x = df.drop('Classification', axis=1)"
   ]
  },
  {
   "cell_type": "code",
   "execution_count": 8,
   "metadata": {},
   "outputs": [
    {
     "data": {
      "text/plain": [
       "RandomForestClassifier(bootstrap=True, ccp_alpha=0.0, class_weight=None,\n",
       "                       criterion='gini', max_depth=None, max_features='auto',\n",
       "                       max_leaf_nodes=None, max_samples=None,\n",
       "                       min_impurity_decrease=0.0, min_impurity_split=None,\n",
       "                       min_samples_leaf=1, min_samples_split=2,\n",
       "                       min_weight_fraction_leaf=0.0, n_estimators=100,\n",
       "                       n_jobs=None, oob_score=False, random_state=42, verbose=0,\n",
       "                       warm_start=False)"
      ]
     },
     "execution_count": 8,
     "metadata": {},
     "output_type": "execute_result"
    }
   ],
   "source": [
    "rforest = RandomForestClassifier(random_state = 42)\n",
    "rforest.fit(x, y)"
   ]
  },
  {
   "cell_type": "code",
   "execution_count": 9,
   "metadata": {},
   "outputs": [
    {
     "data": {
      "image/png": "[encoded data removed]",
      "text/plain": [
       "<Figure size 720x360 with 1 Axes>"
      ]
     },
     "metadata": {},
     "output_type": "display_data"
    }
   ],
   "source": [
    "fimportance = rforest.feature_importances_\n",
    "rf = pd.DataFrame([x.columns,fimportance]).transpose()\n",
    "rf.columns = ['variable','importance']\n",
    "rf = rf.sort_values(by='importance', ascending=False)\n",
    "plt.bar(rf['variable'],rf['importance'],color='cornflowerblue')\n",
    "plt.xticks(rotation=90, ha='right')\n",
    "plt.show()"
   ]
  },
  {
   "cell_type": "markdown",
   "metadata": {},
   "source": [
    "---\n",
    "# 6. export dataset"
   ]
  },
  {
   "cell_type": "code",
   "execution_count": 10,
   "metadata": {
    "scrolled": true
   },
   "outputs": [
    {
     "data": {
      "text/plain": [
       "(116, 10)"
      ]
     },
     "execution_count": 10,
     "metadata": {},
     "output_type": "execute_result"
    }
   ],
   "source": [
    "df.to_csv('clean.csv', index=False)\n",
    "df.shape"
   ]
  }
 ],
 "metadata": {
  "kernelspec": {
   "display_name": "Python 3",
   "language": "python",
   "name": "python3"
  },
  "language_info": {
   "codemirror_mode": {
    "name": "ipython",
    "version": 3
   },
   "file_extension": ".py",
   "mimetype": "text/x-python",
   "name": "python",
   "nbconvert_exporter": "python",
   "pygments_lexer": "ipython3",
   "version": "3.7.6"
  }
 },
 "nbformat": 4,
 "nbformat_minor": 2
}
