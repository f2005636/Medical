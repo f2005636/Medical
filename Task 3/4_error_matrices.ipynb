{
 "cells": [
  {
   "cell_type": "markdown",
   "metadata": {
    "id": "tY7UWlp1bc_o"
   },
   "source": [
    "# 1. import libraries"
   ]
  },
  {
   "cell_type": "code",
   "execution_count": 1,
   "metadata": {
    "colab": {
     "base_uri": "https://localhost:8080/",
     "height": 73,
     "resources": {
      "http://localhost:8080/nbextensions/google.colab/files.js": {
       "data": "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",
       "headers": [
        [
         "content-type",
         "application/javascript"
        ]
       ],
       "ok": true,
       "status": 200,
       "status_text": ""
      }
     }
    },
    "id": "io1_mM8WVVdp",
    "outputId": "075d6756-ac5b-42e5-db26-ede17d9b1e5d"
   },
   "outputs": [],
   "source": [
    "import warnings\n",
    "import numpy as np\n",
    "import pandas as pd\n",
    "from sklearn import tree\n",
    "import matplotlib.pyplot as plt\n",
    "import seaborn as sns"
   ]
  },
  {
   "cell_type": "code",
   "execution_count": 2,
   "metadata": {},
   "outputs": [],
   "source": [
    "from sklearn.ensemble import GradientBoostingClassifier\n",
    "from sklearn.metrics import roc_auc_score, roc_curve, confusion_matrix, classification_report"
   ]
  },
  {
   "cell_type": "code",
   "execution_count": 3,
   "metadata": {},
   "outputs": [],
   "source": [
    "warnings.filterwarnings(\"ignore\")\n",
    "%matplotlib inline\n",
    "plt.style.use('seaborn-white')\n",
    "plt.rcParams['figure.figsize'] = 15,5"
   ]
  },
  {
   "cell_type": "markdown",
   "metadata": {
    "id": "N0az7i6ybhIy"
   },
   "source": [
    "---\n",
    "# 2. import dataset"
   ]
  },
  {
   "cell_type": "code",
   "execution_count": 4,
   "metadata": {
    "colab": {
     "base_uri": "https://localhost:8080/"
    },
    "id": "DWHJy1qhV1ph",
    "outputId": "23ebea7f-0e58-4df2-e5ce-6f6ba0f3e732"
   },
   "outputs": [
    {
     "data": {
      "text/plain": [
       "(756, 11)"
      ]
     },
     "execution_count": 4,
     "metadata": {},
     "output_type": "execute_result"
    }
   ],
   "source": [
    "df = pd.read_csv('clean.csv')\n",
    "df.shape"
   ]
  },
  {
   "cell_type": "code",
   "execution_count": 5,
   "metadata": {
    "id": "6CsBlJOwWEn9"
   },
   "outputs": [
    {
     "data": {
      "text/html": [
       "<div>\n",
       "<style scoped>\n",
       "    .dataframe tbody tr th:only-of-type {\n",
       "        vertical-align: middle;\n",
       "    }\n",
       "\n",
       "    .dataframe tbody tr th {\n",
       "        vertical-align: top;\n",
       "    }\n",
       "\n",
       "    .dataframe thead th {\n",
       "        text-align: right;\n",
       "    }\n",
       "</style>\n",
       "<table border=\"1\" class=\"dataframe\">\n",
       "  <thead>\n",
       "    <tr style=\"text-align: right;\">\n",
       "      <th></th>\n",
       "      <th>count</th>\n",
       "      <th>mean</th>\n",
       "      <th>std</th>\n",
       "      <th>min</th>\n",
       "      <th>25%</th>\n",
       "      <th>50%</th>\n",
       "      <th>75%</th>\n",
       "      <th>max</th>\n",
       "    </tr>\n",
       "  </thead>\n",
       "  <tbody>\n",
       "    <tr>\n",
       "      <th>C1</th>\n",
       "      <td>756.0</td>\n",
       "      <td>-6.241333e-17</td>\n",
       "      <td>1.410032</td>\n",
       "      <td>-3.610980</td>\n",
       "      <td>-0.941193</td>\n",
       "      <td>0.037864</td>\n",
       "      <td>1.019356</td>\n",
       "      <td>3.646400</td>\n",
       "    </tr>\n",
       "    <tr>\n",
       "      <th>C2</th>\n",
       "      <td>756.0</td>\n",
       "      <td>2.584646e-17</td>\n",
       "      <td>1.159174</td>\n",
       "      <td>-2.724420</td>\n",
       "      <td>-0.795746</td>\n",
       "      <td>-0.097365</td>\n",
       "      <td>0.747526</td>\n",
       "      <td>3.769907</td>\n",
       "    </tr>\n",
       "    <tr>\n",
       "      <th>C3</th>\n",
       "      <td>756.0</td>\n",
       "      <td>9.305323e-17</td>\n",
       "      <td>0.866749</td>\n",
       "      <td>-1.795890</td>\n",
       "      <td>-0.600137</td>\n",
       "      <td>-0.132563</td>\n",
       "      <td>0.423208</td>\n",
       "      <td>4.124939</td>\n",
       "    </tr>\n",
       "    <tr>\n",
       "      <th>C4</th>\n",
       "      <td>756.0</td>\n",
       "      <td>-9.472141e-17</td>\n",
       "      <td>0.788312</td>\n",
       "      <td>-2.213456</td>\n",
       "      <td>-0.538234</td>\n",
       "      <td>-0.027294</td>\n",
       "      <td>0.571614</td>\n",
       "      <td>2.515566</td>\n",
       "    </tr>\n",
       "    <tr>\n",
       "      <th>C5</th>\n",
       "      <td>756.0</td>\n",
       "      <td>-6.109164e-17</td>\n",
       "      <td>0.631765</td>\n",
       "      <td>-2.532866</td>\n",
       "      <td>-0.376564</td>\n",
       "      <td>-0.017233</td>\n",
       "      <td>0.388386</td>\n",
       "      <td>2.895530</td>\n",
       "    </tr>\n",
       "    <tr>\n",
       "      <th>C6</th>\n",
       "      <td>756.0</td>\n",
       "      <td>-1.865057e-17</td>\n",
       "      <td>0.608803</td>\n",
       "      <td>-1.279300</td>\n",
       "      <td>-0.441521</td>\n",
       "      <td>-0.055850</td>\n",
       "      <td>0.365144</td>\n",
       "      <td>2.798664</td>\n",
       "    </tr>\n",
       "    <tr>\n",
       "      <th>C7</th>\n",
       "      <td>756.0</td>\n",
       "      <td>-1.164559e-16</td>\n",
       "      <td>0.523363</td>\n",
       "      <td>-1.702942</td>\n",
       "      <td>-0.279321</td>\n",
       "      <td>-0.012284</td>\n",
       "      <td>0.277297</td>\n",
       "      <td>3.436368</td>\n",
       "    </tr>\n",
       "    <tr>\n",
       "      <th>C8</th>\n",
       "      <td>756.0</td>\n",
       "      <td>-1.727381e-17</td>\n",
       "      <td>0.499650</td>\n",
       "      <td>-1.265788</td>\n",
       "      <td>-0.335620</td>\n",
       "      <td>-0.065503</td>\n",
       "      <td>0.270226</td>\n",
       "      <td>2.105546</td>\n",
       "    </tr>\n",
       "    <tr>\n",
       "      <th>C9</th>\n",
       "      <td>756.0</td>\n",
       "      <td>3.377663e-18</td>\n",
       "      <td>0.470328</td>\n",
       "      <td>-1.754114</td>\n",
       "      <td>-0.288288</td>\n",
       "      <td>-0.047904</td>\n",
       "      <td>0.184193</td>\n",
       "      <td>3.743185</td>\n",
       "    </tr>\n",
       "    <tr>\n",
       "      <th>C10</th>\n",
       "      <td>756.0</td>\n",
       "      <td>-3.249165e-17</td>\n",
       "      <td>0.462815</td>\n",
       "      <td>-1.900399</td>\n",
       "      <td>-0.222101</td>\n",
       "      <td>0.071750</td>\n",
       "      <td>0.291584</td>\n",
       "      <td>2.082386</td>\n",
       "    </tr>\n",
       "  </tbody>\n",
       "</table>\n",
       "</div>"
      ],
      "text/plain": [
       "     count          mean       std       min       25%       50%       75%  \\\n",
       "C1   756.0 -6.241333e-17  1.410032 -3.610980 -0.941193  0.037864  1.019356   \n",
       "C2   756.0  2.584646e-17  1.159174 -2.724420 -0.795746 -0.097365  0.747526   \n",
       "C3   756.0  9.305323e-17  0.866749 -1.795890 -0.600137 -0.132563  0.423208   \n",
       "C4   756.0 -9.472141e-17  0.788312 -2.213456 -0.538234 -0.027294  0.571614   \n",
       "C5   756.0 -6.109164e-17  0.631765 -2.532866 -0.376564 -0.017233  0.388386   \n",
       "C6   756.0 -1.865057e-17  0.608803 -1.279300 -0.441521 -0.055850  0.365144   \n",
       "C7   756.0 -1.164559e-16  0.523363 -1.702942 -0.279321 -0.012284  0.277297   \n",
       "C8   756.0 -1.727381e-17  0.499650 -1.265788 -0.335620 -0.065503  0.270226   \n",
       "C9   756.0  3.377663e-18  0.470328 -1.754114 -0.288288 -0.047904  0.184193   \n",
       "C10  756.0 -3.249165e-17  0.462815 -1.900399 -0.222101  0.071750  0.291584   \n",
       "\n",
       "          max  \n",
       "C1   3.646400  \n",
       "C2   3.769907  \n",
       "C3   4.124939  \n",
       "C4   2.515566  \n",
       "C5   2.895530  \n",
       "C6   2.798664  \n",
       "C7   3.436368  \n",
       "C8   2.105546  \n",
       "C9   3.743185  \n",
       "C10  2.082386  "
      ]
     },
     "execution_count": 5,
     "metadata": {},
     "output_type": "execute_result"
    }
   ],
   "source": [
    "y = df['Classification']\n",
    "x = df.drop('Classification', axis=1)\n",
    "x.describe().transpose()"
   ]
  },
  {
   "cell_type": "markdown",
   "metadata": {
    "id": "ylwK7Xftbkcq"
   },
   "source": [
    "---\n",
    "# 3. model"
   ]
  },
  {
   "cell_type": "code",
   "execution_count": 6,
   "metadata": {},
   "outputs": [],
   "source": [
    "model = GradientBoostingClassifier(loss='exponential', max_depth=10, max_features='auto', \n",
    "                                   min_samples_leaf=10, n_estimators=40, random_state = 42)\n",
    "model.fit(x, y)\n",
    "pred_values = model.predict_proba(x)"
   ]
  },
  {
   "cell_type": "markdown",
   "metadata": {
    "id": "6vmIUZWObrKR"
   },
   "source": [
    "---\n",
    "# 4. AUROC, Gini and KS"
   ]
  },
  {
   "cell_type": "code",
   "execution_count": 7,
   "metadata": {
    "colab": {
     "base_uri": "https://localhost:8080/"
    },
    "id": "akjrqxv6Wrh9",
    "outputId": "d4478d06-848f-4a12-85f7-58e48e5bc41a"
   },
   "outputs": [
    {
     "name": "stdout",
     "output_type": "stream",
     "text": [
      "AUROC: 1.0\n"
     ]
    }
   ],
   "source": [
    "pred_values = pd.DataFrame(pred_values)[1]\n",
    "print('AUROC:',np.round(roc_auc_score(y, pred_values), 3))"
   ]
  },
  {
   "cell_type": "code",
   "execution_count": 8,
   "metadata": {
    "colab": {
     "base_uri": "https://localhost:8080/"
    },
    "id": "qwnAp6EeX1-H",
    "outputId": "aca59b84-2698-406d-e0ab-275297491110"
   },
   "outputs": [
    {
     "name": "stdout",
     "output_type": "stream",
     "text": [
      "Gini: 1.0\n"
     ]
    }
   ],
   "source": [
    "auroc = roc_auc_score(y, pred_values)\n",
    "gini = 2 * auroc - 1\n",
    "print('Gini:',np.round(gini, 3))"
   ]
  },
  {
   "cell_type": "code",
   "execution_count": 9,
   "metadata": {
    "id": "Zf8XXhtkX_GJ"
   },
   "outputs": [
    {
     "name": "stdout",
     "output_type": "stream",
     "text": [
      "KS: 0.938\n"
     ]
    }
   ],
   "source": [
    "train_dict = {'actuals':y, 'predicted':pred_values}\n",
    "train_calc = pd.DataFrame(train_dict)\n",
    "\n",
    "train_calc['1-actuals'] = 1-train_calc['actuals']\n",
    "train_calc['1-predicted'] = 1-train_calc['predicted']\n",
    "train_calc['bucket'] = pd.qcut(train_calc['1-predicted'], 10, duplicates='drop')\n",
    "\n",
    "kstable = train_calc.groupby('bucket', as_index = False)[['1-actuals','actuals']].sum()\n",
    "kstable['event_rate'] = (kstable['actuals'] / kstable['actuals'].sum()).cumsum()\n",
    "kstable['non_event_rate'] = (kstable['1-actuals'] / kstable['1-actuals'].sum()).cumsum()\n",
    "kstable['KS'] = (kstable['event_rate'] - kstable['non_event_rate']).abs()\n",
    "print('KS:',np.round(kstable['KS'].max(), 3))"
   ]
  },
  {
   "cell_type": "markdown",
   "metadata": {
    "id": "54qgzGldcDfS"
   },
   "source": [
    "---\n",
    "# 5. Cut-off"
   ]
  },
  {
   "cell_type": "code",
   "execution_count": 10,
   "metadata": {
    "id": "uA_dSr3wY8Wz"
   },
   "outputs": [],
   "source": [
    "train_dict = {'actuals':y, 'predicted':pred_values}\n",
    "test_calc = pd.DataFrame(train_dict)"
   ]
  },
  {
   "cell_type": "code",
   "execution_count": 11,
   "metadata": {
    "colab": {
     "base_uri": "https://localhost:8080/",
     "height": 293
    },
    "id": "W4xFNsLqZVpa",
    "outputId": "bb5f1d12-0312-40c4-a98b-ff0232fbb865"
   },
   "outputs": [
    {
     "name": "stdout",
     "output_type": "stream",
     "text": [
      "max f:  0.3\n"
     ]
    },
    {
     "data": {
      "image/png": "[encoded data removed]",
      "text/plain": [
       "<Figure size 1080x360 with 1 Axes>"
      ]
     },
     "metadata": {},
     "output_type": "display_data"
    }
   ],
   "source": [
    "c = [0.05,0.1,0.15,0.2,0.25,0.3,0.35,0.4,0.45,0.5,0.55,0.6,0.65,0.7,0.75,0.8,0.85,0.9,0.95]\n",
    "f = [0.05,0.1,0.15,0.2,0.25,0.3,0.35,0.4,0.45,0.5,0.55,0.6,0.65,0.7,0.75,0.8,0.85,0.9,0.95]\n",
    "i = 0\n",
    "for j in c:\n",
    "    def flag(x):\n",
    "        if x > j: return 1\n",
    "        else: return 0\n",
    "    test_calc['flag'] = test_calc['predicted'].apply(flag)\n",
    "    df_table = confusion_matrix(test_calc['actuals'],test_calc['flag'])\n",
    "    p = df_table[1,1] / (df_table[1,1] + df_table[0,1])\n",
    "    r = df_table[1,1] / (df_table[1,1] + df_table[1,0])\n",
    "    f[i] = (2 * p * r) / (p + r)\n",
    "    i = i+1\n",
    "\n",
    "df_decision = pd.concat([pd.DataFrame(c),pd.DataFrame(f)],axis=1)\n",
    "df_decision.columns = ['c','f']\n",
    "f_max = df_decision[df_decision['f']==df_decision['f'].max()].head(1)\n",
    "max_f = float(f_max['c'])\n",
    "\n",
    "df_decision.plot(x='c',y='f',marker=\"o\", color='cornflowerblue')\n",
    "print (\"max f: \",max_f)"
   ]
  },
  {
   "cell_type": "markdown",
   "metadata": {
    "id": "aMzdPyhJcJiQ"
   },
   "source": [
    "---\n",
    "# 6. Accuracy and F1"
   ]
  },
  {
   "cell_type": "code",
   "execution_count": 12,
   "metadata": {
    "colab": {
     "base_uri": "https://localhost:8080/"
    },
    "id": "iUVJQYrOZXol",
    "outputId": "1ac692de-6555-49f7-e7d1-90487ab385ee"
   },
   "outputs": [
    {
     "name": "stdout",
     "output_type": "stream",
     "text": [
      "[[192   0]\n",
      " [  0 564]]\n"
     ]
    }
   ],
   "source": [
    "def cut_off (x):\n",
    "    if x > 0.3: return 1\n",
    "    else: return 0\n",
    "test_calc['flag'] = test_calc['predicted'].apply(cut_off)\n",
    "print(confusion_matrix(test_calc['actuals'],test_calc['flag']))"
   ]
  },
  {
   "cell_type": "code",
   "execution_count": 13,
   "metadata": {
    "colab": {
     "base_uri": "https://localhost:8080/"
    },
    "id": "V6KpeApJZr39",
    "outputId": "0a7c2056-c938-4ce9-da5f-3f1d5c532c07"
   },
   "outputs": [
    {
     "name": "stdout",
     "output_type": "stream",
     "text": [
      "Accuracy: 1.0\n"
     ]
    }
   ],
   "source": [
    "c = confusion_matrix(test_calc['actuals'],test_calc['flag'])\n",
    "print('Accuracy:',np.round((c[0][0] + c[1][1]) / c.sum(),3))"
   ]
  },
  {
   "cell_type": "code",
   "execution_count": 14,
   "metadata": {
    "colab": {
     "base_uri": "https://localhost:8080/"
    },
    "id": "uwuqM8OoZzOk",
    "outputId": "d134939a-913b-45ef-c1b4-c94ea8f6423c"
   },
   "outputs": [
    {
     "name": "stdout",
     "output_type": "stream",
     "text": [
      "F1 Score: 1.0\n"
     ]
    }
   ],
   "source": [
    "p = c[1][1] / (c[1][1] + c[0][1])\n",
    "r = c[1][1] / (c[1][1] + c[1][0])\n",
    "print('F1 Score:',np.round((2 * p * r) / (p + r),3))"
   ]
  }
 ],
 "metadata": {
  "colab": {
   "collapsed_sections": [],
   "name": "31 Error Matrices.ipynb",
   "provenance": []
  },
  "kernelspec": {
   "display_name": "Python 3",
   "language": "python",
   "name": "python3"
  },
  "language_info": {
   "codemirror_mode": {
    "name": "ipython",
    "version": 3
   },
   "file_extension": ".py",
   "mimetype": "text/x-python",
   "name": "python",
   "nbconvert_exporter": "python",
   "pygments_lexer": "ipython3",
   "version": "3.7.6"
  }
 },
 "nbformat": 4,
 "nbformat_minor": 1
}
